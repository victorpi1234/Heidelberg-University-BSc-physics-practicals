{
 "cells": [
  {
   "cell_type": "markdown",
   "metadata": {},
   "source": [
    "# Simultaneous least squares fit"
   ]
  },
  {
   "cell_type": "markdown",
   "metadata": {},
   "source": [
    "## Formulas\n",
    "\n",
    "### Damped harmonic oscillator\n",
    "Differential equation:\n",
    "$$m \\ddot x = -k x - \\alpha \\dot x$$\n",
    "After dividing by $m$ one obtains\n",
    "$$\\ddot x + 2 \\beta \\dot x + \\omega_0^2 x = 0; \\quad \\beta = \\frac{\\alpha}{2m}$$\n",
    "In case of undercritical damping ($\\beta < \\omega_0$) the solution is :\n",
    "$$x(t) = x_0 e^{- \\beta t} \\cos(\\omega t + \\varphi_0); \\quad \\omega = \\sqrt{\\omega_0^2 - \\beta^2}$$\n",
    " \n",
    "### Driven harmonic oscillator\n",
    "Differential equation:\n",
    "$$\\ddot x + 2 \\beta \\dot x + \\omega_0^2 x = K \\cos \\omega t; \\quad K = \\frac{f}{m}$$\n",
    "\n",
    "Ansatz:\n",
    "$$x(t) = A \\cos (\\omega t + \\varphi) $$\n",
    "\n",
    "Solution\n",
    "$$A(\\omega) = \\frac{f/m}{\\sqrt{(\\omega^2 - \\omega_0^2)^2 + 4 \\beta^2 \\omega^2}}$$\n",
    "\n",
    "Phase shift between driving force and oscillator:\n",
    "$$\\tan \\varphi = \\frac{2 \\beta \\omega}{\\omega^2 - \\omega_0^2}, \\quad -\\pi \\le \\varphi \\le 0$$\n",
    "\n",
    "## Tasks\n",
    "\n",
    "a) Fit the $x(t)$, $A(\\omega)$ individually using the method of least squares\n",
    "\n",
    "b) Fit $x(t)$ and $A(\\omega)$ simultaneously. More generally, what is the reasoning behind such a combined fit?\n",
    "\n",
    "Use the data generation provided in `S01_least_squares_02_generate_data.ipynb` and read it in as sketched below.\n",
    "\n",
    "## Comments on Python's `iminuit`\n",
    "\n",
    "The KIP service has iminuit version 1.3.8. Please note that the most recent version is $\\geq2.0.0$ and that the [documentation](https://iminuit.readthedocs.io/en/stable/) applies to *that* version. Some backward-incompatible changes have been introduced, some of which changed some interfaces. For your tasks that mainly affects the `minuit.Minuit` constructor. The following shows the construction of a `Minuit` object for version 1.3.8 (in case you use the KIP service or a version $<2.0.0$) and $\\geq2.0.0$ (in case you use another service implementing a higher version), respectively.\n",
    "```python\n",
    "from iminuit import Minuit\n",
    "\n",
    "def func(par1, par2, ..., parN):\n",
    "    return minimise_something(par1, par2, ..., parN)\n",
    "\n",
    "# least squares method: errordef=1\n",
    "# likelihood method: errordef=0.5\n",
    "m = Minuit(func, par1=0.1, par2=0.1, ..., parN=0.1, errordef=1)\n",
    "```\n",
    "\n",
    "And this would be the equivalent workflow for versions >2.0.0\n",
    "```python\n",
    "from iminuit import Minuit\n",
    "\n",
    "def func(par1, par2, ..., parN):\n",
    "    return minimise_something(par1, par2, ..., parN)\n",
    "\n",
    "# least squares method: errordef=Minuit.LEAST_SQUARES\n",
    "# likelihood method: errordef=Minuit.LIKELIHOOD\n",
    "\n",
    "# add errordef as an attribute of your defined minimisation function which will be checked for when optimised\n",
    "func.errordef = Minuit.LEAST_SQUARES\n",
    "m = Minuit(func, par1=0.1, par2=0.1, ..., parN=0.1)\n",
    "```\n",
    "\n",
    "Another (potenitally) Jupiter related *feature* is the fact that `m.migrad()`, `m.matrix()`, `m.minos()` etc. can yield a nice summary of the respective procedure. However, in order to show it, either of these methods (and potentially others in case you use them) have to be *the last line of a code cell*. If there is *anything* coming afterwards, the output will not be printed, hence, for anything that follows, it is recommended to start a new code cell.\n"
   ]
  },
  {
   "cell_type": "code",
   "execution_count": 5,
   "metadata": {},
   "outputs": [],
   "source": [
    "import numpy as np\n",
    "import matplotlib.pyplot as plt\n",
    "from iminuit import Minuit"
   ]
  },
  {
   "cell_type": "markdown",
   "metadata": {
    "slideshow": {
     "slide_type": "fragment"
    }
   },
   "source": [
    "## Read data"
   ]
  },
  {
   "cell_type": "code",
   "execution_count": null,
   "metadata": {},
   "outputs": [],
   "source": [
    "t_data, x_data, sigma_x = np.loadtxt('damped_free_oscillator.csv', delimiter=',', unpack=True)\n",
    "omega_data, A_data, sigma_A, ph_data, sigma_ph = np.loadtxt('driven_oscillator.csv', \n",
    "                                                            delimiter=',', unpack=True)"
   ]
  },
  {
   "cell_type": "markdown",
   "metadata": {},
   "source": [
    "## Solution"
   ]
  },
  {
   "cell_type": "code",
   "execution_count": null,
   "metadata": {},
   "outputs": [],
   "source": []
  }
 ],
 "metadata": {
  "kernelspec": {
   "display_name": "Python 3",
   "language": "python",
   "name": "python3"
  },
  "language_info": {
   "codemirror_mode": {
    "name": "ipython",
    "version": 3
   },
   "file_extension": ".py",
   "mimetype": "text/x-python",
   "name": "python",
   "nbconvert_exporter": "python",
   "pygments_lexer": "ipython3",
   "version": "3.7.6"
  }
 },
 "nbformat": 4,
 "nbformat_minor": 4
}
