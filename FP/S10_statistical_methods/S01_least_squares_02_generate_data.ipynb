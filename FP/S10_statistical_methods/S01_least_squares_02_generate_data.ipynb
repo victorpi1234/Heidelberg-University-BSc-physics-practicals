{
 "cells": [
  {
   "cell_type": "markdown",
   "metadata": {},
   "source": [
    "# Generate data for simultaneous least squares problem (damped oscillator) "
   ]
  },
  {
   "cell_type": "code",
   "execution_count": null,
   "metadata": {},
   "outputs": [],
   "source": [
    "import numpy as np\n",
    "import matplotlib.pyplot as plt\n",
    "from iminuit import Minuit\n",
    "from pprint import pprint"
   ]
  },
  {
   "cell_type": "markdown",
   "metadata": {},
   "source": [
    "## Damped harmonic oscillator\n",
    "Differential equation:\n",
    "$$m \\ddot x = -k x - \\alpha \\dot x$$\n",
    "After dividing by $m$ one obtains\n",
    "$$\\ddot x + 2 \\beta \\dot x + \\omega_0^2 x = 0; \\quad \\beta = \\frac{\\alpha}{2m}$$\n",
    "In case of undercritical damping ($\\beta < \\omega_0$) the solution is :\n",
    "$$x(t) = x_0 e^{- \\beta t} \\cos(\\omega t + \\varphi_0); \\quad \\omega = \\sqrt{\\omega_0^2 - \\beta^2}$$\n",
    " \n",
    "## Driven harmonic oscillator\n",
    "Differential equation:\n",
    "$$\\ddot x + 2 \\beta \\dot x + \\omega_0^2 x = K \\cos \\omega t; \\quad K = \\frac{f}{m}$$\n",
    "\n",
    "Ansatz:\n",
    "$$x(t) = A \\cos (\\omega t + \\varphi) $$\n",
    "\n",
    "Solution\n",
    "$$A(\\omega) = \\frac{f/m}{\\sqrt{(\\omega^2 - \\omega_0^2)^2 + 4 \\beta^2 \\omega^2}}$$"
   ]
  },
  {
   "cell_type": "code",
   "execution_count": null,
   "metadata": {},
   "outputs": [],
   "source": [
    "# free damped oscillator\n",
    "# position vs time (assuming phi_0 = 0)\n",
    "def x(t, x0, omega_0, beta):\n",
    "    return x0 * np.exp(-beta * t) * np.cos(np.sqrt(omega_0**2 - beta**2) * t)"
   ]
  },
  {
   "cell_type": "code",
   "execution_count": null,
   "metadata": {},
   "outputs": [],
   "source": [
    "# Driven damped oscillator:\n",
    "# Amplitude vs. driving frequency omega\n",
    "def A(omega, omega_0, beta, K):\n",
    "    return K / np.sqrt((omega**2 - omega_0**2)**2 + \\\n",
    "                       (2. * beta * omega)**2)"
   ]
  },
  {
   "cell_type": "code",
   "execution_count": null,
   "metadata": {},
   "outputs": [],
   "source": [
    "# Phase shift of the driven oscillator\n",
    "def phase(omega, omega_0, beta):\n",
    "\n",
    "    if type(omega) == float or type(omega) == int:\n",
    "        omega = np.array([omega])\n",
    "    \n",
    "    num = -2. * beta * omega\n",
    "    den = omega_0**2 - omega**2\n",
    "    \n",
    "    tanphi = np.divide(\n",
    "        num, den, out=np.ones_like(num) * np.inf, where=(den!=0))\n",
    "    \n",
    "    phi = np.arctan(tanphi)\n",
    "    phi = np.where(phi > 0, phi-np.pi, phi)\n",
    "    return phi"
   ]
  },
  {
   "cell_type": "markdown",
   "metadata": {},
   "source": [
    "### Generate data"
   ]
  },
  {
   "cell_type": "code",
   "execution_count": null,
   "metadata": {},
   "outputs": [],
   "source": [
    "np.random.seed(1000)\n",
    "\n",
    "# oscillator parameters\n",
    "omega_0 = 4\n",
    "beta = 0.3\n",
    "x0 = 0.1\n",
    "K = 0.2\n",
    "\n",
    "# meassurement uncertainties\n",
    "sigma_x = 0.05 * x0\n",
    "sigma_A = sigma_x / 2.\n",
    "sigma_ph = 0.1\n",
    "\n",
    "# damped free oscillator: x(t)\n",
    "npoints_t = 50\n",
    "t_data = np.linspace(0, 5.6 * 2 * np.pi / omega_0, npoints_t)\n",
    "x_smooth = x(t_data, x0, omega_0, beta)\n",
    "x_data = x_smooth + np.random.normal(0, sigma_x, npoints_t)\n",
    "\n",
    "# driven oscillator\n",
    "npoints_omega = 25\n",
    "omega_min = 3.\n",
    "omega_max = 6.\n",
    "\n",
    "omega_data = np.linspace(omega_min, omega_max, npoints_omega)\n",
    "A_smooth = A(omega_data, omega_0, beta, K)\n",
    "A_data = A_smooth + np.random.normal(0, sigma_A, npoints_omega)\n",
    "\n",
    "# phase\n",
    "ph_smooth = phase(omega_data, omega_0, beta)\n",
    "ph_data = ph_smooth + np.random.normal(0, sigma_ph, npoints_omega)"
   ]
  },
  {
   "cell_type": "code",
   "execution_count": null,
   "metadata": {},
   "outputs": [],
   "source": [
    "plt.subplots(1, 3, figsize=(5,10))\n",
    "\n",
    "plt.subplot(311)\n",
    "plt.errorbar(t_data, x_data, yerr=sigma_x, fmt='b.', ls='none')\n",
    "plt.xlabel(r't (arbitrary units)')\n",
    "plt.ylabel(r'x(t)')\n",
    "\n",
    "plt.subplot(312)\n",
    "plt.errorbar(omega_data, A_data, yerr=sigma_A, fmt='b.', ls='none')\n",
    "plt.xlabel(r'$\\omega$ (Hz)')\n",
    "plt.ylabel('amplitude A (arbitrary units)')\n",
    "\n",
    "plt.subplot(313)\n",
    "plt.xlabel(r'$\\omega$ (Hz)')\n",
    "plt.ylabel(r'phase $\\phi$')\n",
    "plt.errorbar(omega_data, ph_data, yerr=sigma_ph, fmt='b.', ls='none')"
   ]
  },
  {
   "cell_type": "code",
   "execution_count": null,
   "metadata": {},
   "outputs": [],
   "source": [
    "# write text files with data\n",
    "sig_x = np.full(npoints_t, sigma_x)\n",
    "data1 = np.vstack((t_data, x_data, sig_x)).T\n",
    "np.savetxt('damped_free_oscillator.csv', data1, delimiter=',', \n",
    "           header='first column: time (a.u.), second column: position of oscillator (a.u.)')\n",
    "\n",
    "sig_A = np.full(npoints_omega, sigma_A)\n",
    "sig_ph = np.full(npoints_omega, sigma_ph)\n",
    "data2 = np.vstack((omega_data, A_data, sig_A, ph_data, sig_ph)).T\n",
    "np.savetxt('driven_oscillator.csv', data2, delimiter=',',\n",
    "          header='first column: driving frequency (a.u.), second column: amplitude (a.u.), third column: phase shift (rad)')"
   ]
  },
  {
   "cell_type": "code",
   "execution_count": null,
   "metadata": {},
   "outputs": [],
   "source": []
  }
 ],
 "metadata": {
  "kernelspec": {
   "display_name": "Python 3 (ipykernel)",
   "language": "python",
   "name": "python3"
  },
  "language_info": {
   "codemirror_mode": {
    "name": "ipython",
    "version": 3
   },
   "file_extension": ".py",
   "mimetype": "text/x-python",
   "name": "python",
   "nbconvert_exporter": "python",
   "pygments_lexer": "ipython3",
   "version": "3.8.5"
  }
 },
 "nbformat": 4,
 "nbformat_minor": 4
}
