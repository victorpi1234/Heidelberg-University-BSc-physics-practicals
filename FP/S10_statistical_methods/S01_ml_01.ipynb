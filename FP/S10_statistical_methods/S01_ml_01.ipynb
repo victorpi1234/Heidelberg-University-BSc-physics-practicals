{
 "cells": [
  {
   "cell_type": "markdown",
   "metadata": {},
   "source": [
    "# Maximum-likelihood estimate for mean lifetime in radiactive decay\n",
    "\n",
    "Solve the tasks below.\n",
    "For each task, give reasons for your solution by commenting in the notebook.\n",
    "In conclusion, summarize your findings and contextualize them. What have you learned? Do the results make sense?\n",
    "\n",
    "Your results will be examined for plagiarism. Please use your own plot styles, articulate your own thoughts, and present your own experimental approaches.\n",
    "\n",
    "## Tasks\n",
    "\n",
    "a) The maximum likelihood estimator for the mean lifetime $\\tau$ of a radioactive decay desribed by the distribution\n",
    "\n",
    "$$ f(t, \\tau) = \\frac{1}{\\tau} e^{-t/\\tau}$$\n",
    "\n",
    "is give by \n",
    "\n",
    "$$\\hat \\tau = \\frac{1}{n} \\sum_{i=1}^n t_i.$$\n",
    "\n",
    "The standard deviation of $\\hat \\tau$ can be estimated as \n",
    "\n",
    "$$\\sigma_\\tau^2 = - \\left(\\frac{\\partial^2 \\ln L(\\tau)}{\\partial^2 \\tau} \\Big|_{\\tau = \\hat \\tau} \\right)^{-1}$$\n",
    "\n",
    "Use that to show that the uncertainty of $\\hat \\tau$ is given by $\\sigma_\\tau = \\frac{\\hat \\tau}{\\sqrt{n}}$\n",
    "\n",
    "b) Use the function *generate_data* defined below to generate a data set with 30 and 300 samples for $\\tau = 2$, respectively. Plot the log-likelihood function $\\ln L(\\tau)$ along with the parabolic approximation. \n",
    "\n",
    "$$ \\ln L(\\tau) \\approx \\ln L_\\mathrm{max} - \\frac{(\\tau - \\hat \\tau)^2}{2 \\sigma^2}$$\n",
    "\n",
    "What can you conclude about the validity of the approximtion as the sample size increases?\n",
    "\n",
    "c) Generate 1000 data sets each with 500 samples for $\\tau = 2$ and determine for each data set whether the true value of tau lies in the interval $[\\hat \\tau - \\sigma_{\\hat \\tau}, \\hat \\tau + \\sigma_{\\hat \\tau}]$. How often does the true value lie in this interval? What is your expection for the correspinding probability?\n",
    "\n",
    "\n",
    "### Hints\n",
    "\n",
    "It is recommended to not start coding right away. Try to really understand how the Likelihood looks first. Realize, what the Likelihood is a function of and what it describes.\n"
   ]
  },
  {
   "cell_type": "code",
   "execution_count": null,
   "metadata": {},
   "outputs": [],
   "source": [
    "import numpy as np\n",
    "import matplotlib.pyplot as plt"
   ]
  },
  {
   "cell_type": "code",
   "execution_count": null,
   "metadata": {},
   "outputs": [],
   "source": [
    "def generate_data(tau, n_samples):\n",
    "    return np.random.exponential(tau, n_samples)"
   ]
  },
  {
   "cell_type": "code",
   "execution_count": null,
   "metadata": {},
   "outputs": [],
   "source": []
  }
 ],
 "metadata": {
  "kernelspec": {
   "display_name": "Python 3 (ipykernel)",
   "language": "python",
   "name": "python3"
  },
  "language_info": {
   "codemirror_mode": {
    "name": "ipython",
    "version": 3
   },
   "file_extension": ".py",
   "mimetype": "text/x-python",
   "name": "python",
   "nbconvert_exporter": "python",
   "pygments_lexer": "ipython3",
   "version": "3.9.6"
  }
 },
 "nbformat": 4,
 "nbformat_minor": 4
}
