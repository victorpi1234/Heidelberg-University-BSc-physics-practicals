{
 "cells": [
  {
   "cell_type": "markdown",
   "metadata": {},
   "source": [
    "# Linear least squares fit\n",
    "\n",
    "Solve the tasks below.\n",
    "For each task, give reasons for your solution by commenting in the notebook.\n",
    "In conclusion, summarize your findings and contextualize them. What have you learned? Do the results make sense?\n",
    "\n",
    "Your results will be examined for plagiarism. Please use your own plot styles, articulate your own thoughts, and present your own experimental approaches.\n",
    "\n",
    "## Tasks\n",
    "\n",
    "Perform a least squares fit of a parabola of third order\n",
    "\n",
    "$$ y(x) = \\theta_0 + \\theta_1 x + \\theta_2 x^2 + \\theta_3 x^3 $$\n",
    "\n",
    "for the thirteen independent measurments $(x_i, y_i)$ given by $(-1.5, -8.0 \\pm 2.5)$, $(-1.25, -2.5 \\pm 2.0)$, $(-1.0, -1.5 \\pm 1.5)$, $(-0.75, 1.0 \\pm 1.0)$, $(-0.5, 4.0 \\pm 1.0)$, $(-0.25, 4.0 \\pm 0.5)$, $(0.0, 5.5 \\pm 0.5)$, $(0.25, 4.5 \\pm 0.5)$, $(0.5, 5.5 \\pm 0.5)$, $(0.75, 3.0 \\pm 1.0)$, $(1.0, 3.0 \\pm 1.0)$, $(1.25, 4.5 \\pm 1.5)$, $(1.5, 7.0 \\pm 2.0)$. \n",
    "\n",
    "a) Determine the best fit parameters $\\hat \\theta_i$ and their covariances using the formula for linear least squares fits.\n",
    "\n",
    "b) Determine the $\\chi_\\mathrm{obs}^2$ for the best fit parameter. What is the number of degrees of freedom? Plot the $\\chi^2$ distribution and indicate $\\chi_\\mathrm{obs}^2$ in this plot (e.g. by drawing a line at this value).\n",
    "What is the $p$-value for this fit?\n",
    "\n",
    "c) Plot the fitted parabola and the $1\\sigma$ error band around it as obtaind from the error propagation formula $\\sigma_y^2 = A^\\mathrm{T} U A$. What is the predicted value $y$ at $x=1$ and its uncertainty?\n",
    "\n",
    "d) Compare the fit result and the covariance matrix with the results obtained with iminuit. Do the results agree?\n",
    "\n",
    "e) Plot the data with a straight-line fit. Determine the $p$-value for this straight-line fit. Is this an acceptable description of the data?\n",
    "\n",
    "f) How does the $p$-value for a straight-line fit change if the error bars are twice as high in this example? Would you say the fit is describing the data well in this case?\n",
    "\n",
    "\n",
    "### Hints\n",
    "\n",
    "1) The following numpy functions might come in very handy\n",
    "* diagonal matrix from vector v in numpy: *A = np.diagflat(v)*\n",
    "* matrix from column vectors v0, v1, v2, v3: *A = np.column_stack((v0, v1, v2, v3))*\n",
    "* multiplication of matrices A and B in numpy: *C = A.dot(B)*\n",
    "* transposed matrix: *A_T = np.transpose(A)*\n",
    "* inverse matrix: *A_inv = inv(A)*, this requires *from numpy.linalg import inv*\n",
    "\n",
    "2) It might be useful to write a function which returns the uncertainty $\\sigma_y$ for a numpy array of $x$ values. A function $f$ that only works for a scalar value $x$ can be vectorized (i.e., it works also for numpy arrays) with *numpy.vectorize*.\n",
    "\n",
    "3) Data points with error bars can be drawn with *plt.errorbar(x, y, yerr=sigma_y)*\n",
    "\n",
    "4) A band between $y$ values can be drawn with the aid of *matplotlib.pyplot.fill_between*\n",
    "\n",
    "## Comments on Python's `iminuit`\n",
    "\n",
    "The KIP service has iminuit version 1.3.8. Please note that the most recent version is $\\geq2.0.0$ and that the [documentation](https://iminuit.readthedocs.io/en/stable/) applies to *that* version. Some backward-incompatible changes have been introduced, some of which changed some interfaces. For your tasks that mainly affects the `minuit.Minuit` constructor. The following shows the construction of a `Minuit` object for version 1.3.8 (in case you use the KIP service or a version $<2.0.0$) and $\\geq2.0.0$ (in case you use another service implementing a higher version), respectively.\n",
    "```python\n",
    "from iminuit import Minuit\n",
    "\n",
    "def func(par1, par2, ..., parN):\n",
    "    return minimise_something(par1, par2, ..., parN)\n",
    "\n",
    "# least squares method: errordef=1\n",
    "# likelihood method: errordef=0.5\n",
    "m = Minuit(func, par1=0.1, par2=0.1, ..., parN=0.1, errordef=1)\n",
    "```\n",
    "\n",
    "And this would be the equivalent workflow for versions >2.0.0\n",
    "```python\n",
    "from iminuit import Minuit\n",
    "\n",
    "def func(par1, par2, ..., parN):\n",
    "    return minimise_something(par1, par2, ..., parN)\n",
    "\n",
    "# least squares method: errordef=Minuit.LEAST_SQUARES\n",
    "# likelihood method: errordef=Minuit.LIKELIHOOD\n",
    "\n",
    "# add errordef as an attribute of your defined minimisation function which will be checked for when optimised\n",
    "func.errordef = Minuit.LEAST_SQUARES\n",
    "m = Minuit(func, par1=0.1 par2=0.1, ..., parN=0.1)\n",
    "```\n",
    "\n",
    "Another (potenitally) Jupiter related *feature* is the fact that `m.migrad()`, `m.matrix()`, `m.minos()` etc. can yield a nice summary of the respective procedure. However, in order to show it, either of these methods (and potentially others in case you use them) have to be *the last line of a code cell*. If there is *anything* coming afterwards, the output will not be printed, hence, for anything that follows, it is recommended to start a new code cell.\n"
   ]
  },
  {
   "cell_type": "markdown",
   "metadata": {},
   "source": [
    "## Solution"
   ]
  },
  {
   "cell_type": "code",
   "execution_count": 1,
   "metadata": {},
   "outputs": [],
   "source": [
    "import numpy as np\n",
    "import matplotlib.pyplot as plt\n",
    "from numpy.linalg import inv\n",
    "from iminuit import Minuit"
   ]
  },
  {
   "cell_type": "code",
   "execution_count": 2,
   "metadata": {},
   "outputs": [],
   "source": [
    "# data\n",
    "x = np.array([-1.5,-1.25, -1., -0.75, -0.5, -0.25, 0., 0.25, 0.5, 0.75, 1.0, 1.25, 1.5])\n",
    "y = np.array([-8, -2.5, -1.5, 1., 4.0, 4., 5.5, 4.5, 3.5, 3., 3., 4.5, 7.])\n",
    "sigma_y = np.array([2.5, 2., 1.5, 1, 1, 0.5, 0.5, 0.5, 0.5, 1.0, 1.0, 1.5, 2.])"
   ]
  },
  {
   "cell_type": "code",
   "execution_count": null,
   "metadata": {},
   "outputs": [],
   "source": []
  }
 ],
 "metadata": {
  "kernelspec": {
   "display_name": "Python 3 (ipykernel)",
   "language": "python",
   "name": "python3"
  },
  "language_info": {
   "codemirror_mode": {
    "name": "ipython",
    "version": 3
   },
   "file_extension": ".py",
   "mimetype": "text/x-python",
   "name": "python",
   "nbconvert_exporter": "python",
   "pygments_lexer": "ipython3",
   "version": "3.11.7"
  }
 },
 "nbformat": 4,
 "nbformat_minor": 4
}
