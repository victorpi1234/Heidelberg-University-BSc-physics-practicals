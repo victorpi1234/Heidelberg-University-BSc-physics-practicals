{
 "cells": [
  {
   "cell_type": "markdown",
   "metadata": {},
   "source": [
    "# Unbinned maximum likelihood fit\n",
    "\n",
    "The probability density function for the distribution of an angle $\\alpha$ is given by\n",
    "\n",
    "$ f(x; a) = \\frac{1 + a x}{2}, \\quad x = \\cos \\alpha$.\n",
    "\n",
    "The parameter $a$ is in the range $-1 \\le a \\le 1$.\n",
    "\n",
    "## Tasks\n",
    "\n",
    "a) Determine the maximum-likelihood estimate $\\hat a$ of the parameter $a$ and its uncertainty from the provided data sample using a numerical minimization tool, e.g., `iminuit` (see comments below).\n",
    "\n",
    "b) Plot the histogram representation of the data along with the fit function.\n",
    "\n",
    "c) Determine the uncertainties $\\sigma_a^-$ and $\\sigma_a^+$ defined by\n",
    "\n",
    "$$ \\ln L (\\hat a \\pm \\sigma_a) =  \\ln L_\\mathrm{max} - \\frac{1}{2} $$\n",
    "\n",
    "Compare your result with the result of `iminuit`'s `minos()` routine. Reduce the sample size of the data set by only taking the first $n$ events (`x[:n]`). At approximately which value of $n$ is the difference between $\\sigma_a^-$ and $\\sigma_a^+$ bigger than 5\\%? \n",
    "\n",
    "Use the data generation provided in the notebook `S01_ml_02_generate_data.ipynb`. It is recommended to actually generate a `CSV` file and read it back here. You don't necessarily have to hand in your generated data; the tutors can generate their own and since your implemented procedure is generic, it should work with any other dataset generated with `S01_ml_02_generate_data.ipynb`.\n",
    "\n",
    "\n",
    "### Hints\n",
    "\n",
    "It is recommended to not start coding right away. Try to really understand how the Likelihood looks first. Realize, what the Likelihood is a function of and what it describes.\n",
    "\n",
    "Also, the function imported as `from scipy.optimize import brentq` might come in handy.\n",
    "\n",
    "\n",
    "## Comments on Python's `iminuit`\n",
    "\n",
    "The KIP service has iminuit version 1.3.8. Please note that the most recent version is $\\geq2.0.0$ and that the [documentation](https://iminuit.readthedocs.io/en/stable/) applies to *that* version. Some backward-incompatible changes have been introduced, some of which changed some interfaces. For your tasks that mainly affects the `minuit.Minuit` constructor. The following shows the construction of a `Minuit` object for version 1.3.8 (in case you use the KIP service or a version $<2.0.0$) and $\\geq2.0.0$ (in case you use another service implementing a higher version), respectively.\n",
    "```python\n",
    "from iminuit import Minuit\n",
    "\n",
    "def func(par1, par2, ..., parN):\n",
    "    return minimise_something(par1, par2, ..., parN)\n",
    "\n",
    "# least squares method: errordef=1\n",
    "# likelihood method: errordef=0.5\n",
    "m = Minuit(func, par1=0.1, par2=0.1, ..., parN=0.1, errordef=1)\n",
    "```\n",
    "\n",
    "And this would be the equivalent workflow for versions >2.0.0\n",
    "```python\n",
    "from iminuit import Minuit\n",
    "\n",
    "def func(par1, par2, ..., parN):\n",
    "    return minimise_something(par1, par2, ..., parN)\n",
    "\n",
    "# least squares method: errordef=Minuit.LEAST_SQUARES\n",
    "# likelihood method: errordef=Minuit.LIKELIHOOD\n",
    "\n",
    "# add errordef as an attribute of your defined minimisation function which will be checked for when optimised\n",
    "func.errordef = Minuit.LEAST_SQUARES\n",
    "m = Minuit(func, par1=0.1, par2=0.1, ..., parN=0.1)\n",
    "```\n",
    "\n",
    "Another (potenitally) Jupiter related *feature* is the fact that `m.migrad()`, `m.matrix()`, `m.minos()` etc. can yield a nice summary of the respective procedure. However, in order to show it, either of these methods (and potentially others in case you use them) have to be *the last line of a code cell*. If there is *anything* coming afterwards, the output will not be printed, hence, for anything that follows, it is recommended to start a new code cell."
   ]
  },
  {
   "cell_type": "code",
   "execution_count": null,
   "metadata": {},
   "outputs": [],
   "source": [
    "import numpy as np\n",
    "import matplotlib.pyplot as plt\n",
    "from iminuit import Minuit"
   ]
  },
  {
   "cell_type": "code",
   "execution_count": null,
   "metadata": {},
   "outputs": [],
   "source": [
    "x = np.loadtxt(\"ml_fit_data.csv\")\n",
    "x = x[:30]"
   ]
  },
  {
   "cell_type": "code",
   "execution_count": null,
   "metadata": {},
   "outputs": [],
   "source": []
  }
 ],
 "metadata": {
  "kernelspec": {
   "display_name": "Python 3",
   "language": "python",
   "name": "python3"
  },
  "language_info": {
   "codemirror_mode": {
    "name": "ipython",
    "version": 3
   },
   "file_extension": ".py",
   "mimetype": "text/x-python",
   "name": "python",
   "nbconvert_exporter": "python",
   "pygments_lexer": "ipython3",
   "version": "3.9.6"
  }
 },
 "nbformat": 4,
 "nbformat_minor": 4
}
